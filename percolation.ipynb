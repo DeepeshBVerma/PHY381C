{
 "cells": [
  {
   "cell_type": "code",
   "execution_count": null,
   "metadata": {},
   "outputs": [],
   "source": [
    "#Program Name: percolation.ipynb\n",
    "#Date Created: September 5th, 2022\n",
    "#Author: Deepesh Verma (dbv293)\n",
    "#Function: Implementation of the Game of Life percolation model. (BTK cellular automation)"
   ]
  },
  {
   "cell_type": "code",
   "execution_count": 7,
   "metadata": {},
   "outputs": [],
   "source": [
    "import numpy as np \n"
   ]
  },
  {
   "cell_type": "code",
   "execution_count": 12,
   "metadata": {},
   "outputs": [],
   "source": [
    "\n",
    "class gol: #Game of Life\n",
    "    \"\"\"\n",
    "    Simulation of the 2D Game of Life, which is based off of the BTK cellular automation model. \n",
    "\n",
    "    Parameters:\n",
    "        n: size of square, n by n, lattice\n",
    "        grid: initial lattice of blocked or open sites\n",
    "        gridf: lattice after water is poured into the system\n",
    "        p: probability of blockage when lattice site is randomly chosen\n",
    "\n",
    "    \"\"\"\n",
    "\n",
    "    def __init__(self,n,p,random_state=None):\n",
    "        \"\"\"\n",
    "        Initializes the grid of lattice sites randomly.\n",
    "        \"\"\"\n",
    "\n",
    "        #Initializes the random seed.\n",
    "        self.random_state = random_state\n",
    "\n",
    "        #Sets up the grid by populating it with values.\n",
    "        self.n = n\n",
    "        self.p = p\n",
    "        self.grid = np.zeros((n,n))\n",
    "        self.init_grid()\n",
    "\n",
    "        self.gridf = np.copy(self.grid)\n",
    "\n",
    "    def init_grid(self):\n",
    "        \"\"\"\n",
    "        Randomly assigns filled or open values to grid\n",
    "        \"\"\"\n",
    "\n",
    "        #Establishes random seed.\n",
    "        np.random.seed(self.random_state)\n",
    "        \n",
    "        #Populates grid with filled (0) or open (1) states.\n",
    "        self.grid = np.random.choice(2,size=(self.n,self.n),p=(1-self.p,self.p))\n",
    "\n",
    "        #Populates gridf with filled (0) or open (1) states.\n",
    "        self.gridf = np.copy(self.grid)\n",
    "\n",
    "    def rec_flow(self,x,y):\n",
    "        \"\"\"\n",
    "        Recursive solution to the filling of the lattice.\n",
    "        \"\"\"\n",
    "\n",
    "        #Do not change site if it is off the lattice. \n",
    "        if x < 0 or x >= self.n:\n",
    "            return None\n",
    "        if y <0 or y >= self.n:\n",
    "            return None\n",
    "        if self.grid[x,y] == 0: #Site is blocked so we cannot fill.\n",
    "            return None\n",
    "        if self.gridf[x,y] == 2: #Site is full so we cannot fill further.\n",
    "            return None\n",
    "\n",
    "        #Fills any other lattice sites not ruled out.\n",
    "        self.gridf[x,y] = 2\n",
    "\n",
    "        #Checks the nearest neighbors for water that flows. \n",
    "        self.rec_flow(x+1,y)\n",
    "        self.rec_flow(x,y+1)\n",
    "        self.rec_flow(x,y-1)\n",
    "        self.rec_flow(x-1,y)\n",
    "\n",
    "    def rec_percolation(self):\n",
    "        \"\"\"\n",
    "        Percolates using recursion method.\n",
    "        \"\"\"\n",
    "        #Runs percolation one column at a time.\n",
    "        for i in range(self.n):\n",
    "            self.rec_flow(0,i)\n",
    "\n",
    "    def percolate(self):\n",
    "        \"\"\"\n",
    "        Runs percolation simulation and returns results.\n",
    "        \"\"\"\n",
    "        #Runs the percolation flow model. \n",
    "        self.rec_percolation()\n",
    "\n",
    "        #Returns boolean if any lattice site is full.\n",
    "        return np.any(self.gridf[-1]==2)"
   ]
  },
  {
   "cell_type": "code",
   "execution_count": 38,
   "metadata": {},
   "outputs": [],
   "source": [
    "test = gol(n=10000, random_state=0, p=0.5)"
   ]
  },
  {
   "cell_type": "code",
   "execution_count": 15,
   "metadata": {},
   "outputs": [],
   "source": [
    "#From HW page. \n",
    "\n",
    "import matplotlib.pyplot as plt\n",
    "from matplotlib.colors import LinearSegmentedColormap\n",
    "\n",
    "def plot_percolation(mat):\n",
    "    \"\"\"\n",
    "    Plots a percolation matrix, where 0 indicates a blocked site, 1 indicates an empty \n",
    "    site, and 2 indicates a filled site\n",
    "    \"\"\"\n",
    "    cvals  = [0, 1, 2]\n",
    "    colors = [(0, 0, 0), (0.4, 0.4, 0.4), (0.372549, 0.596078, 1)]\n",
    "\n",
    "    norm = plt.Normalize(min(cvals), max(cvals))\n",
    "    tuples = list(zip(map(norm,cvals), colors))\n",
    "    cmap = LinearSegmentedColormap.from_list(\"\", tuples)\n",
    "    plt.imshow(mat, cmap=cmap, vmin=0, vmax=2)"
   ]
  },
  {
   "cell_type": "code",
   "execution_count": 18,
   "metadata": {},
   "outputs": [
    {
     "name": "stdout",
     "output_type": "stream",
     "text": [
      "False\n",
      "False\n",
      "True\n"
     ]
    },
    {
     "data": {
      "image/png": "[encoded data removed]",
      "text/plain": [
       "<Figure size 432x288 with 1 Axes>"
      ]
     },
     "metadata": {
      "needs_background": "light"
     },
     "output_type": "display_data"
    },
    {
     "data": {
      "image/png": "[encoded data removed]",
      "text/plain": [
       "<Figure size 432x288 with 1 Axes>"
      ]
     },
     "metadata": {
      "needs_background": "light"
     },
     "output_type": "display_data"
    },
    {
     "data": {
      "image/png": "[encoded data removed]",
      "text/plain": [
       "<Figure size 432x288 with 1 Axes>"
      ]
     },
     "metadata": {
      "needs_background": "light"
     },
     "output_type": "display_data"
    }
   ],
   "source": [
    "model = gol(n=20, random_state=0, p=0.1)\n",
    "print(model.percolate())\n",
    "plt.figure()\n",
    "plot_percolation(model.gridf)\n",
    "\n",
    "model = gol(n=20, random_state=0, p=0.4)\n",
    "print(model.percolate())\n",
    "plt.figure()\n",
    "plot_percolation(model.gridf)\n",
    "\n",
    "model = gol(n=20, random_state=0, p=0.9)\n",
    "print(model.percolate())\n",
    "plt.figure()\n",
    "plot_percolation(model.gridf)"
   ]
  },
  {
   "cell_type": "code",
   "execution_count": 23,
   "metadata": {},
   "outputs": [
    {
     "name": "stdout",
     "output_type": "stream",
     "text": [
      "Running replicate simulations for p = 0.0\n",
      "Running replicate simulations for p = 0.041666666666666664\n",
      "Running replicate simulations for p = 0.08333333333333333\n",
      "Running replicate simulations for p = 0.125\n",
      "Running replicate simulations for p = 0.16666666666666666\n",
      "Running replicate simulations for p = 0.20833333333333331\n",
      "Running replicate simulations for p = 0.25\n",
      "Running replicate simulations for p = 0.29166666666666663\n",
      "Running replicate simulations for p = 0.3333333333333333\n",
      "Running replicate simulations for p = 0.375\n",
      "Running replicate simulations for p = 0.41666666666666663\n",
      "Running replicate simulations for p = 0.4583333333333333\n",
      "Running replicate simulations for p = 0.5\n",
      "Running replicate simulations for p = 0.5416666666666666\n",
      "Running replicate simulations for p = 0.5833333333333333\n",
      "Running replicate simulations for p = 0.625\n",
      "Running replicate simulations for p = 0.6666666666666666\n",
      "Running replicate simulations for p = 0.7083333333333333\n",
      "Running replicate simulations for p = 0.75\n",
      "Running replicate simulations for p = 0.7916666666666666\n",
      "Running replicate simulations for p = 0.8333333333333333\n",
      "Running replicate simulations for p = 0.875\n",
      "Running replicate simulations for p = 0.9166666666666666\n",
      "Running replicate simulations for p = 0.9583333333333333\n",
      "Running replicate simulations for p = 1.0\n"
     ]
    },
    {
     "data": {
      "image/png": "[encoded data removed]",
      "text/plain": [
       "<Figure size 432x288 with 1 Axes>"
      ]
     },
     "metadata": {
      "needs_background": "light"
     },
     "output_type": "display_data"
    },
    {
     "data": {
      "image/png": "[encoded data removed]",
      "text/plain": [
       "<Figure size 432x288 with 1 Axes>"
      ]
     },
     "metadata": {
      "needs_background": "light"
     },
     "output_type": "display_data"
    },
    {
     "name": "stdout",
     "output_type": "stream",
     "text": [
      "Finished simulation 0\n",
      "Finished simulation 500\n",
      "Finished simulation 1000\n",
      "Finished simulation 1500\n",
      "Finished simulation 2000\n",
      "Finished simulation 2500\n",
      "Finished simulation 3000\n",
      "Finished simulation 3500\n",
      "Finished simulation 4000\n",
      "Finished simulation 4500\n"
     ]
    },
    {
     "data": {
      "image/png": "[encoded data removed]",
      "text/plain": [
       "<Figure size 432x288 with 1 Axes>"
      ]
     },
     "metadata": {
      "needs_background": "light"
     },
     "output_type": "display_data"
    }
   ],
   "source": [
    "#From HW Page.\n",
    "pvals = np.linspace(0, 1, 25) # control parameter for percolation phase transition\n",
    "n_reps = 200 # number of times to repeat the simulation for each p value\n",
    "\n",
    "all_percolations = list()\n",
    "for p in pvals:\n",
    "    print(\"Running replicate simulations for p = {}\".format(p), flush=True)\n",
    "    all_replicates = list()\n",
    "    for i in range(n_reps):\n",
    "        # Initialize the model\n",
    "        model = gol(30, p=p)\n",
    "        all_replicates.append(model.percolate())\n",
    "    all_percolations.append(all_replicates)\n",
    "\n",
    "plt.figure()\n",
    "plt.plot(pvals, np.mean(np.array(all_percolations), axis=1))\n",
    "plt.xlabel('Average site occupation probability')\n",
    "plt.ylabel('Percolation probability')\n",
    "\n",
    "plt.figure()\n",
    "plt.plot(pvals, np.std(np.array(all_percolations), axis=1))\n",
    "plt.xlabel('Standard deviation in site occupation probability')\n",
    "plt.ylabel('Percolation probability')\n",
    "\n",
    "plt.show()\n",
    "\n",
    "\n",
    "## Just from curiousity, plot the distribution of cluster sizes at the percolation threshold\n",
    "## why does it appear to be bimodal?\n",
    "all_cluster_sizes = list()\n",
    "p_c = 0.407259\n",
    "n_reps = 5000\n",
    "for i in range(n_reps):\n",
    "    model = gol(100, p=p_c)\n",
    "    model.percolate()\n",
    "    cluster_size = np.sum(model.gridf == 2)\n",
    "    all_cluster_sizes.append(cluster_size)\n",
    "\n",
    "    if i % 500 == 0:\n",
    "        print(\"Finished simulation {}\".format(i), flush=True)\n",
    "\n",
    "all_cluster_sizes = np.array(all_cluster_sizes)\n",
    "\n",
    "plt.figure()\n",
    "plt.hist(all_cluster_sizes, 50);"
   ]
  },
  {
   "cell_type": "code",
   "execution_count": null,
   "metadata": {},
   "outputs": [],
   "source": []
  }
 ],
 "metadata": {
  "kernelspec": {
   "display_name": "Python 3.9.1 64-bit",
   "language": "python",
   "name": "python3"
  },
  "language_info": {
   "codemirror_mode": {
    "name": "ipython",
    "version": 3
   },
   "file_extension": ".py",
   "mimetype": "text/x-python",
   "name": "python",
   "nbconvert_exporter": "python",
   "pygments_lexer": "ipython3",
   "version": "3.9.1"
  },
  "orig_nbformat": 4,
  "vscode": {
   "interpreter": {
    "hash": "aee8b7b246df8f9039afb4144a1f6fd8d2ca17a180786b69acc140d282b71a49"
   }
  }
 },
 "nbformat": 4,
 "nbformat_minor": 2
}
