{
 "cells": [
  {
   "cell_type": "code",
   "execution_count": 24,
   "metadata": {},
   "outputs": [],
   "source": [
    "#Program Name: sandpile.ipynb\n",
    "#Date Created: September 5th, 2022\n",
    "#Author: Deepesh Verma (dbv293)\n",
    "#Function: Implementation of the Abelian Sandpile"
   ]
  },
  {
   "cell_type": "code",
   "execution_count": 25,
   "metadata": {},
   "outputs": [],
   "source": [
    "import numpy as np"
   ]
  },
  {
   "cell_type": "code",
   "execution_count": 26,
   "metadata": {},
   "outputs": [],
   "source": [
    "class ASP:\n",
    "    \"\"\"\n",
    "     Simulation of the Abelian sandpile. Each lattice site is intiailized with some random value of grains less \n",
    "    than max_height. Then a single grain is deposited onto a random lattice site and the system is allowed to \n",
    "    evolve following the rules dictating the Bak–Tang–Wiesenfeld model until it becomes stable. The process \n",
    "    occurs for n_steps.\n",
    "\n",
    "    Parameters:\n",
    "        n: size of the square n by n lattice\n",
    "        grid: stores the values of the sandpile heights \n",
    "        past: stores last step of values of the sandpile heights\n",
    "    \"\"\"\n",
    "\n",
    "    def __init__(self,n,random_state=None):\n",
    "        \"\"\"\n",
    "        Initializes the sandpile and populates it by random int values between 0-3. Also, writes last step \n",
    "        values of sandpile heights to past.\n",
    "        \"\"\"\n",
    "        self.n = n\n",
    "        np.random.seed(random_state)\n",
    "\n",
    "        #Populates grid with random int values between 0-3.\n",
    "        self.grid = np.random.choice(4,size=(n,n))\n",
    "\n",
    "        #Writes last step values of sandpile heights to past.\n",
    "        self.past = [self.grid.copy()]\n",
    "\n",
    "    def BTW(self,x,y):\n",
    "        \"\"\"\n",
    "        Implements the update rules of the Bak–Tang–Wiesenfeld model for when we add a single grain to a random\n",
    "        lattice site. Evolves the heights of the sandpile due to toppling.\n",
    "        \"\"\"\n",
    "        #Adds grain to lattice site.\n",
    "        self.grid[x,y]+=1      \n",
    "\n",
    "        #Topple calculation.\n",
    "\n",
    "        #Pile is below topple height.\n",
    "        if self.grid[x,y]<4: \n",
    "            return None\n",
    "\n",
    "        #Pile is above topple height.\n",
    "        else:   \n",
    "            #Pile topples, so height goes to 0. \n",
    "            self.grid[x,y]-=4\n",
    "\n",
    "            #Update rules for BTW model.\n",
    "            if x > 0:\n",
    "                self.BTW(x-1,y)\n",
    "            if x < self.n-1:\n",
    "                self.BTW(x+1,y)\n",
    "            if y > 0:\n",
    "                self.BTW(x,y-1)\n",
    "            if y < self.n-1:\n",
    "                self.BTW(x,y+1)\n",
    "            return None\n",
    "\n",
    "    def step(self):\n",
    "        \"\"\"\n",
    "        Evolves the sandpile simulation by a single step. Involves adding a grain to a random lattice site \n",
    "        and the corresponding toppling that it causes.\n",
    "        \"\"\"\n",
    "        #Determines a random lattice site for which we add a grain. \n",
    "        x, y = np.random.choice(self.n,2)\n",
    "\n",
    "        #Adds the grain and performs the BTW update for the lattice site. \n",
    "        self.BTW(x,y)\n",
    "\n",
    "    @staticmethod\n",
    "    def diff(agrid,bgrid):\n",
    "        \"\"\"\n",
    "        Counts the number of different lattice sites between two grids. Used when comparing grid and past arrays.\n",
    "        \"\"\"\n",
    "        return np.sum(agrid!=bgrid)\n",
    "\n",
    "    def runsim(self,n_steps):\n",
    "        \"\"\"\n",
    "        Runs the Abelian sandpile simulation for n_steps.\n",
    "        \"\"\"\n",
    "        for i in range(n_steps):\n",
    "            self.step()\n",
    "            if self.diff(self.grid,self.past[-1])>0:\n",
    "                self.past.append(self.grid.copy())\n",
    "        return self.grid"
   ]
  },
  {
   "cell_type": "code",
   "execution_count": 35,
   "metadata": {},
   "outputs": [],
   "source": [
    "import matplotlib.pyplot as plt\n",
    "import math "
   ]
  },
  {
   "cell_type": "code",
   "execution_count": 43,
   "metadata": {},
   "outputs": [
    {
     "data": {
      "text/plain": [
       "array([[1, 3, 2, ..., 3, 3, 0],\n",
       "       [2, 3, 1, ..., 0, 2, 3],\n",
       "       [2, 2, 2, ..., 3, 3, 3],\n",
       "       ...,\n",
       "       [0, 3, 1, ..., 2, 3, 0],\n",
       "       [3, 2, 1, ..., 1, 3, 1],\n",
       "       [2, 3, 2, ..., 3, 3, 2]])"
      ]
     },
     "execution_count": 43,
     "metadata": {},
     "output_type": "execute_result"
    }
   ],
   "source": [
    "#Run sandpile simulation \n",
    "\n",
    "testrun = ASP(n=50,random_state=0)\n",
    "testrun.runsim(10000)"
   ]
  },
  {
   "cell_type": "code",
   "execution_count": 44,
   "metadata": {},
   "outputs": [
    {
     "data": {
      "text/plain": [
       "Text(0, 0.5, 'Count')"
      ]
     },
     "execution_count": 44,
     "metadata": {},
     "output_type": "execute_result"
    },
    {
     "data": {
      "image/png": "[encoded data removed]",
      "text/plain": [
       "<Figure size 432x288 with 1 Axes>"
      ]
     },
     "metadata": {
      "needs_background": "light"
     },
     "output_type": "display_data"
    }
   ],
   "source": [
    "#Straight from HW page, with edits for var names. \n",
    "# Compute the pairwise difference between all observed snapshots. This command uses list\n",
    "# comprehension, a zip generator, and argument unpacking in order to perform this task\n",
    "# concisely.\n",
    "all_events =  [testrun.diff(*states) for states in zip(testrun.past[:-1], testrun.past[1:])]\n",
    "# remove transients before the self-organized critical state is reached\n",
    "all_events = all_events[1000:]\n",
    "# index each timestep by timepoint\n",
    "all_events = list(enumerate(all_events))\n",
    "# remove cases where an avalanche did not occur\n",
    "all_avalanches = [x for x in all_events if x[1] > 1]\n",
    "all_avalanche_times = [item[0] for item in all_avalanches]\n",
    "all_avalanche_sizes = [item[1] for item in all_avalanches]\n",
    "all_avalanche_durations = [event1 - event0 for event0, event1 in zip(all_avalanche_times[:-1], all_avalanche_times[1:])]\n",
    "\n",
    "\n",
    "log_bins = np.logspace(np.log10(2), np.log10(np.max(all_avalanche_durations)), 50) # logarithmic bins for histogram\n",
    "vals, bins = np.histogram(all_avalanche_durations, bins=log_bins)\n",
    "plt.figure()\n",
    "plt.loglog(bins[:-1], vals, '.', markersize=10)\n",
    "plt.title('Avalanche Duration Distribution')\n",
    "plt.xlabel('Avalanche Duration')\n",
    "plt.ylabel('Count')"
   ]
  },
  {
   "cell_type": "code",
   "execution_count": null,
   "metadata": {},
   "outputs": [],
   "source": [
    "#1.3 for n = 10, N = 100\n",
    "#2.7 for n = 20, N = 400\n",
    "#8.9 for n = 50, N = 2500\n",
    "#15.9 for n = 100, N = 10000\n",
    "\n",
    "#It seems that at we increase the size n, our number of lattice sites are N = n**2, and the timing scales almost linearly.  "
   ]
  }
 ],
 "metadata": {
  "kernelspec": {
   "display_name": "Python 3.9.1 64-bit",
   "language": "python",
   "name": "python3"
  },
  "language_info": {
   "codemirror_mode": {
    "name": "ipython",
    "version": 3
   },
   "file_extension": ".py",
   "mimetype": "text/x-python",
   "name": "python",
   "nbconvert_exporter": "python",
   "pygments_lexer": "ipython3",
   "version": "3.9.1"
  },
  "orig_nbformat": 4,
  "vscode": {
   "interpreter": {
    "hash": "aee8b7b246df8f9039afb4144a1f6fd8d2ca17a180786b69acc140d282b71a49"
   }
  }
 },
 "nbformat": 4,
 "nbformat_minor": 2
}
